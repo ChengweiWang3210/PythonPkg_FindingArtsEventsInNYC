{
 "cells": [
  {
   "cell_type": "code",
   "execution_count": 3,
   "metadata": {
    "ExecuteTime": {
     "end_time": "2020-12-18T16:48:35.162160Z",
     "start_time": "2020-12-18T16:48:33.066880Z"
    },
    "collapsed": true
   },
   "outputs": [
    {
     "name": "stdout",
     "output_type": "stream",
     "text": [
      "Looking in indexes: https://test.pypi.org/simple/\n",
      "Requirement already satisfied: NYCArtsFinder in /Users/greatyifan/.pyenv/versions/3.8.6/lib/python3.8/site-packages (0.1.0)\n",
      "Collecting NYCArtsFinder\n",
      "  Downloading https://test-files.pythonhosted.org/packages/6e/e8/6795ce3aa8f08ac88c131f5122a933a629e68820e1841390f34214c14326/NYCArtsFinder-0.2.0-py3-none-any.whl (4.3 kB)\n"
     ]
    }
   ],
   "source": [
    "# install the package\n",
    "# !pip install -i https://test.pypi.org/simple/ NYCArtsFinder"
   ]
  },
  {
   "cell_type": "code",
   "execution_count": 1,
   "metadata": {
    "ExecuteTime": {
     "end_time": "2020-12-18T16:59:41.611907Z",
     "start_time": "2020-12-18T16:59:41.604328Z"
    }
   },
   "outputs": [],
   "source": [
    "# import the package\n",
    "import nycartsfinder.main as main"
   ]
  },
  {
   "cell_type": "code",
   "execution_count": 2,
   "metadata": {
    "ExecuteTime": {
     "end_time": "2020-12-18T16:59:41.778135Z",
     "start_time": "2020-12-18T16:59:41.758126Z"
    },
    "scrolled": true
   },
   "outputs": [
    {
     "data": {
      "text/plain": [
       "'0.3.0'"
      ]
     },
     "execution_count": 2,
     "metadata": {},
     "output_type": "execute_result"
    }
   ],
   "source": [
    "# check for the version\n",
    "nycartsfinder.__version__"
   ]
  },
  {
   "cell_type": "code",
   "execution_count": 5,
   "metadata": {
    "ExecuteTime": {
     "end_time": "2020-12-18T16:59:56.705714Z",
     "start_time": "2020-12-18T16:59:56.700545Z"
    }
   },
   "outputs": [],
   "source": [
    "# build the instance, name it as finder\n",
    "finder = main.EventsNearMe()"
   ]
  },
  {
   "cell_type": "code",
   "execution_count": 17,
   "metadata": {
    "ExecuteTime": {
     "end_time": "2020-12-18T18:44:30.796353Z",
     "start_time": "2020-12-18T18:44:30.365903Z"
    }
   },
   "outputs": [],
   "source": [
    "# using the address to find events, \n",
    "# therefore, use input_address() first,\n",
    "# otherwise, with latitude and longitude,\n",
    "# use get_event_near_me() directly. \n",
    "finder.input_address('Harlem, NYC')"
   ]
  },
  {
   "cell_type": "code",
   "execution_count": 18,
   "metadata": {
    "ExecuteTime": {
     "end_time": "2020-12-18T18:44:31.760856Z",
     "start_time": "2020-12-18T18:44:31.510103Z"
    },
    "scrolled": true
   },
   "outputs": [
    {
     "name": "stdout",
     "output_type": "stream",
     "text": [
      "informational responses\n"
     ]
    },
    {
     "data": {
      "text/html": [
       "<div>\n",
       "<style scoped>\n",
       "    .dataframe tbody tr th:only-of-type {\n",
       "        vertical-align: middle;\n",
       "    }\n",
       "\n",
       "    .dataframe tbody tr th {\n",
       "        vertical-align: top;\n",
       "    }\n",
       "\n",
       "    .dataframe thead th {\n",
       "        text-align: right;\n",
       "    }\n",
       "</style>\n",
       "<table border=\"1\" class=\"dataframe\">\n",
       "  <thead>\n",
       "    <tr style=\"text-align: right;\">\n",
       "      <th></th>\n",
       "      <th>Name</th>\n",
       "      <th>Venue_Name</th>\n",
       "      <th>Venue_Type</th>\n",
       "      <th>Venue_Address</th>\n",
       "      <th>Venue_Phone</th>\n",
       "      <th>Venue_Fax</th>\n",
       "      <th>Venue_Access</th>\n",
       "      <th>Venue_Area</th>\n",
       "      <th>Venue_OpeningHour</th>\n",
       "      <th>Venue_ClosingHour</th>\n",
       "      <th>...</th>\n",
       "      <th>Price</th>\n",
       "      <th>DateStart</th>\n",
       "      <th>DateEnd</th>\n",
       "      <th>ScheduleNote</th>\n",
       "      <th>DaysBeforeEnd</th>\n",
       "      <th>PermanentEvent</th>\n",
       "      <th>Distance</th>\n",
       "      <th>Datum</th>\n",
       "      <th>Latitude</th>\n",
       "      <th>Longitude</th>\n",
       "    </tr>\n",
       "  </thead>\n",
       "  <tbody>\n",
       "    <tr>\n",
       "      <th>0</th>\n",
       "      <td>“To Jonas with Love” Exhibition</td>\n",
       "      <td>Ki Smith Gallery</td>\n",
       "      <td>Gallery</td>\n",
       "      <td>712 W 125th St., New York, NY 10027</td>\n",
       "      <td>212-677-5131</td>\n",
       "      <td>None</td>\n",
       "      <td>At 12th Ave. Subway: 1 to 125th Street.</td>\n",
       "      <td>Harlem, Bronx</td>\n",
       "      <td>11:00:00</td>\n",
       "      <td>19:00:00</td>\n",
       "      <td>...</td>\n",
       "      <td>Free</td>\n",
       "      <td>2020-11-18</td>\n",
       "      <td>2020-12-20</td>\n",
       "      <td>None</td>\n",
       "      <td>2</td>\n",
       "      <td>0</td>\n",
       "      <td>1730.129443411</td>\n",
       "      <td>world</td>\n",
       "      <td>40.818162</td>\n",
       "      <td>-73.960845</td>\n",
       "    </tr>\n",
       "  </tbody>\n",
       "</table>\n",
       "<p>1 rows × 26 columns</p>\n",
       "</div>"
      ],
      "text/plain": [
       "                              Name        Venue_Name Venue_Type  \\\n",
       "0  “To Jonas with Love” Exhibition  Ki Smith Gallery    Gallery   \n",
       "\n",
       "                         Venue_Address   Venue_Phone Venue_Fax  \\\n",
       "0  712 W 125th St., New York, NY 10027  212-677-5131      None   \n",
       "\n",
       "                               Venue_Access     Venue_Area Venue_OpeningHour  \\\n",
       "0  At 12th Ave. Subway: 1 to 125th Street.   Harlem, Bronx          11:00:00   \n",
       "\n",
       "  Venue_ClosingHour  ... Price   DateStart     DateEnd ScheduleNote  \\\n",
       "0          19:00:00  ...  Free  2020-11-18  2020-12-20         None   \n",
       "\n",
       "  DaysBeforeEnd PermanentEvent        Distance  Datum   Latitude   Longitude  \n",
       "0             2              0  1730.129443411  world  40.818162  -73.960845  \n",
       "\n",
       "[1 rows x 26 columns]"
      ]
     },
     "execution_count": 18,
     "metadata": {},
     "output_type": "execute_result"
    }
   ],
   "source": [
    "# call the API to fetch events' information\n",
    "finder.get_event_near_me()"
   ]
  },
  {
   "cell_type": "code",
   "execution_count": 19,
   "metadata": {
    "ExecuteTime": {
     "end_time": "2020-12-18T18:45:19.484709Z",
     "start_time": "2020-12-18T18:45:19.444629Z"
    }
   },
   "outputs": [
    {
     "data": {
      "text/html": [
       "<div>\n",
       "<style scoped>\n",
       "    .dataframe tbody tr th:only-of-type {\n",
       "        vertical-align: middle;\n",
       "    }\n",
       "\n",
       "    .dataframe tbody tr th {\n",
       "        vertical-align: top;\n",
       "    }\n",
       "\n",
       "    .dataframe thead th {\n",
       "        text-align: right;\n",
       "    }\n",
       "</style>\n",
       "<table border=\"1\" class=\"dataframe\">\n",
       "  <thead>\n",
       "    <tr style=\"text-align: right;\">\n",
       "      <th></th>\n",
       "      <th>Name</th>\n",
       "      <th>Venue_Name</th>\n",
       "      <th>Venue_Type</th>\n",
       "      <th>Venue_Address</th>\n",
       "      <th>Venue_Phone</th>\n",
       "      <th>Venue_Fax</th>\n",
       "      <th>Venue_Access</th>\n",
       "      <th>Venue_Area</th>\n",
       "      <th>Venue_OpeningHour</th>\n",
       "      <th>Venue_ClosingHour</th>\n",
       "      <th>...</th>\n",
       "      <th>Price</th>\n",
       "      <th>DateStart</th>\n",
       "      <th>DateEnd</th>\n",
       "      <th>ScheduleNote</th>\n",
       "      <th>DaysBeforeEnd</th>\n",
       "      <th>PermanentEvent</th>\n",
       "      <th>Distance</th>\n",
       "      <th>Datum</th>\n",
       "      <th>Latitude</th>\n",
       "      <th>Longitude</th>\n",
       "    </tr>\n",
       "  </thead>\n",
       "  <tbody>\n",
       "    <tr>\n",
       "      <th>0</th>\n",
       "      <td>“To Jonas with Love” Exhibition</td>\n",
       "      <td>Ki Smith Gallery</td>\n",
       "      <td>Gallery</td>\n",
       "      <td>712 W 125th St., New York, NY 10027</td>\n",
       "      <td>212-677-5131</td>\n",
       "      <td>None</td>\n",
       "      <td>At 12th Ave. Subway: 1 to 125th Street.</td>\n",
       "      <td>Harlem, Bronx</td>\n",
       "      <td>11:00:00</td>\n",
       "      <td>19:00:00</td>\n",
       "      <td>...</td>\n",
       "      <td>Free</td>\n",
       "      <td>2020-11-18</td>\n",
       "      <td>2020-12-20</td>\n",
       "      <td>None</td>\n",
       "      <td>2</td>\n",
       "      <td>0</td>\n",
       "      <td>1730.129443411</td>\n",
       "      <td>world</td>\n",
       "      <td>40.818162</td>\n",
       "      <td>-73.960845</td>\n",
       "    </tr>\n",
       "  </tbody>\n",
       "</table>\n",
       "<p>1 rows × 26 columns</p>\n",
       "</div>"
      ],
      "text/plain": [
       "                              Name        Venue_Name Venue_Type  \\\n",
       "0  “To Jonas with Love” Exhibition  Ki Smith Gallery    Gallery   \n",
       "\n",
       "                         Venue_Address   Venue_Phone Venue_Fax  \\\n",
       "0  712 W 125th St., New York, NY 10027  212-677-5131      None   \n",
       "\n",
       "                               Venue_Access     Venue_Area Venue_OpeningHour  \\\n",
       "0  At 12th Ave. Subway: 1 to 125th Street.   Harlem, Bronx          11:00:00   \n",
       "\n",
       "  Venue_ClosingHour  ... Price   DateStart     DateEnd ScheduleNote  \\\n",
       "0          19:00:00  ...  Free  2020-11-18  2020-12-20         None   \n",
       "\n",
       "  DaysBeforeEnd PermanentEvent        Distance  Datum   Latitude   Longitude  \n",
       "0             2              0  1730.129443411  world  40.818162  -73.960845  \n",
       "\n",
       "[1 rows x 26 columns]"
      ]
     },
     "execution_count": 19,
     "metadata": {},
     "output_type": "execute_result"
    }
   ],
   "source": [
    "# the above table is store in the \"results\" attribute\n",
    "finder.results"
   ]
  },
  {
   "cell_type": "code",
   "execution_count": 20,
   "metadata": {
    "ExecuteTime": {
     "end_time": "2020-12-18T18:45:36.504103Z",
     "start_time": "2020-12-18T18:45:36.469241Z"
    },
    "scrolled": false
   },
   "outputs": [
    {
     "data": {
      "text/html": [
       "<div style=\"width:100%;\"><div style=\"position:relative;width:100%;height:0;padding-bottom:60%;\"><span style=\"color:#565656\">Make this Notebook Trusted to load map: File -> Trust Notebook</span><iframe src=\"about:blank\" style=\"position:absolute;width:100%;height:100%;left:0;top:0;border:none !important;\" data-html=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 onload=\"this.contentDocument.open();this.contentDocument.write(atob(this.getAttribute('data-html')));this.contentDocument.close();\" allowfullscreen webkitallowfullscreen mozallowfullscreen></iframe></div></div>"
      ],
      "text/plain": [
       "<folium.folium.Map at 0x117ab7d00>"
      ]
     },
     "execution_count": 20,
     "metadata": {},
     "output_type": "execute_result"
    }
   ],
   "source": [
    "# call the map to visualize the event(s)\n",
    "# the location of the events are shown in red circles.\n",
    "finder.view_on_map()"
   ]
  },
  {
   "cell_type": "code",
   "execution_count": null,
   "metadata": {},
   "outputs": [],
   "source": []
  }
 ],
 "metadata": {
  "kernelspec": {
   "display_name": "Python 3",
   "language": "python",
   "name": "python3"
  },
  "language_info": {
   "codemirror_mode": {
    "name": "ipython",
    "version": 3
   },
   "file_extension": ".py",
   "mimetype": "text/x-python",
   "name": "python",
   "nbconvert_exporter": "python",
   "pygments_lexer": "ipython3",
   "version": "3.8.6"
  },
  "toc": {
   "base_numbering": 1,
   "nav_menu": {},
   "number_sections": true,
   "sideBar": true,
   "skip_h1_title": false,
   "title_cell": "Table of Contents",
   "title_sidebar": "Contents",
   "toc_cell": false,
   "toc_position": {},
   "toc_section_display": true,
   "toc_window_display": false
  },
  "varInspector": {
   "cols": {
    "lenName": 16,
    "lenType": 16,
    "lenVar": 40
   },
   "kernels_config": {
    "python": {
     "delete_cmd_postfix": "",
     "delete_cmd_prefix": "del ",
     "library": "var_list.py",
     "varRefreshCmd": "print(var_dic_list())"
    },
    "r": {
     "delete_cmd_postfix": ") ",
     "delete_cmd_prefix": "rm(",
     "library": "var_list.r",
     "varRefreshCmd": "cat(var_dic_list()) "
    }
   },
   "types_to_exclude": [
    "module",
    "function",
    "builtin_function_or_method",
    "instance",
    "_Feature"
   ],
   "window_display": false
  }
 },
 "nbformat": 4,
 "nbformat_minor": 4
}
